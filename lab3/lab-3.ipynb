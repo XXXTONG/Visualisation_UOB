{
 "cells": [
  {
   "cell_type": "markdown",
   "metadata": {},
   "source": [
    "# Visualisation\n",
    "# Lab 3 - Editing you Charts"
   ]
  },
  {
   "cell_type": "markdown",
   "metadata": {},
   "source": [
    "\n",
    "---\n",
    "\n",
    "# Excercises"
   ]
  },
  {
   "cell_type": "markdown",
   "metadata": {},
   "source": [
    "# Excercise 1\n",
    "Install the vector graphics program [inkscape](https://inkscape.org/) and complete the [basic tutorial](https://inkscape.org/doc/tutorials/basic/tutorial-basic.html)."
   ]
  },
  {
   "cell_type": "markdown",
   "metadata": {},
   "source": [
    "# Excercise 2\n",
    "Take a plot you made in last weeks Exercise 2 and turn it into a figure that follows Edward Tufte's design principles discussed in the lecture videos of week 2.\n",
    "To achieve this, edit the plot in Inkscape.\n",
    "Save the plot in a vector graphics format (see lab-0) and open it in inkscape.\n",
    "\n",
    "Note, when import a vector graphics file in inkscape the individual elements are often grouped multiple times.\n",
    "You have to ungroup them to edit them (see [basic tutorial](https://inkscape.org/doc/tutorials/basic/tutorial-basic.html)).\n",
    "Here is a [tutorial on editing pdfs](https://www.youtube.com/watch?v=m5uh_hBfmCk).\n",
    "\n",
    "Save your result in a vector graphics file format."
   ]
  },
  {
   "cell_type": "markdown",
   "metadata": {},
   "source": [
    "# Excercise 3\n",
    "Use Inkscape to make a version of the plot from Exercise 2 that additionaly tells a story as suggested by Nussbaumer Knaflic."
   ]
  },
  {
   "cell_type": "code",
   "execution_count": null,
   "metadata": {},
   "outputs": [],
   "source": []
  }
 ],
 "metadata": {
  "kernelspec": {
   "display_name": "Python 3 (ipykernel)",
   "language": "python",
   "name": "python3"
  },
  "language_info": {
   "codemirror_mode": {
    "name": "ipython",
    "version": 3
   },
   "file_extension": ".py",
   "mimetype": "text/x-python",
   "name": "python",
   "nbconvert_exporter": "python",
   "pygments_lexer": "ipython3",
   "version": "3.9.12"
  }
 },
 "nbformat": 4,
 "nbformat_minor": 4
}
